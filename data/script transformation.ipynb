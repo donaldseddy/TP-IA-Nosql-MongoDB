{
 "cells": [
  {
   "cell_type": "code",
   "execution_count": 1,
   "id": "2720284b",
   "metadata": {},
   "outputs": [],
   "source": [
    "import json\n",
    "\n",
    "# Lire le fichier JSON ligne par ligne\n",
    "with open(\"console_games.json\", \"r\", encoding=\"utf-8\") as f:\n",
    "    raw_data = f.read()\n",
    "\n",
    "# Séparer les objets par une logique simple (séparateur entre les blocs JSON)\n",
    "objects = raw_data.split(\"}\\n{\")\n",
    "objects = [obj + \"}\" if not obj.endswith(\"}\") else obj for obj in objects]\n",
    "objects = [\"{\" + obj if not obj.startswith(\"{\") else obj for obj in objects]\n",
    "\n",
    "# Convertir chaque objet en dict\n",
    "data = [json.loads(obj) for obj in objects]\n",
    "\n",
    "# Sauvegarder en JSON valide (liste d'objets)\n",
    "with open(\"console_games_clean.json\", \"w\", encoding=\"utf-8\") as f:\n",
    "    json.dump(data, f, indent=4)\n"
   ]
  },
  {
   "cell_type": "code",
   "execution_count": 2,
   "id": "4bcec9ff",
   "metadata": {},
   "outputs": [],
   "source": [
    "import json\n",
    "\n",
    "# Lire le fichier JSON ligne par ligne\n",
    "with open(\"magasins.json\", \"r\", encoding=\"utf-8\") as f:\n",
    "    raw_data = f.read()\n",
    "\n",
    "# Séparer les objets par une logique simple (séparateur entre les blocs JSON)\n",
    "objects = raw_data.split(\"}\\n{\")\n",
    "objects = [obj + \"}\" if not obj.endswith(\"}\") else obj for obj in objects]\n",
    "objects = [\"{\" + obj if not obj.startswith(\"{\") else obj for obj in objects]\n",
    "\n",
    "# Convertir chaque objet en dict\n",
    "data = [json.loads(obj) for obj in objects]\n",
    "\n",
    "# Sauvegarder en JSON valide (liste d'objets)\n",
    "with open(\"magasins_clean.json\", \"w\", encoding=\"utf-8\") as f:\n",
    "    json.dump(data, f, indent=4)\n"
   ]
  },
  {
   "cell_type": "code",
   "execution_count": 3,
   "id": "80b1a84b",
   "metadata": {},
   "outputs": [],
   "source": [
    "import json\n",
    "\n",
    "# Lire le fichier JSON ligne par ligne\n",
    "with open(\"authors.json\", \"r\", encoding=\"utf-8\") as f:\n",
    "    raw_data = f.read()\n",
    "\n",
    "# Séparer les objets par une logique simple (séparateur entre les blocs JSON)\n",
    "objects = raw_data.split(\"}\\n{\")\n",
    "objects = [obj + \"}\" if not obj.endswith(\"}\") else obj for obj in objects]\n",
    "objects = [\"{\" + obj if not obj.startswith(\"{\") else obj for obj in objects]\n",
    "\n",
    "# Convertir chaque objet en dict\n",
    "data = [json.loads(obj) for obj in objects]\n",
    "\n",
    "# Sauvegarder en JSON valide (liste d'objets)\n",
    "with open(\"authors_clean.json\", \"w\", encoding=\"utf-8\") as f:\n",
    "    json.dump(data, f, indent=4)"
   ]
  }
 ],
 "metadata": {
  "kernelspec": {
   "display_name": ".venv",
   "language": "python",
   "name": "python3"
  },
  "language_info": {
   "codemirror_mode": {
    "name": "ipython",
    "version": 3
   },
   "file_extension": ".py",
   "mimetype": "text/x-python",
   "name": "python",
   "nbconvert_exporter": "python",
   "pygments_lexer": "ipython3",
   "version": "3.13.3"
  }
 },
 "nbformat": 4,
 "nbformat_minor": 5
}
